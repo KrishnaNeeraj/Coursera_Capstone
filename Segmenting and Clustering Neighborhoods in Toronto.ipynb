{
    "nbformat_minor": 1, 
    "cells": [
        {
            "source": "# Import Libraries", 
            "cell_type": "markdown", 
            "metadata": {}
        }, 
        {
            "execution_count": 3, 
            "cell_type": "code", 
            "metadata": {}, 
            "outputs": [], 
            "source": "import pandas as pd\nimport numpy as np\nfrom bs4 import BeautifulSoup\nimport requests"
        }, 
        {
            "source": "# Get Data from WikiPedia and use BeautifulSoup", 
            "cell_type": "markdown", 
            "metadata": {}
        }, 
        {
            "execution_count": 4, 
            "cell_type": "code", 
            "metadata": {}, 
            "outputs": [], 
            "source": "Wikilink='https://en.wikipedia.org/wiki/List_of_postal_codes_of_Canada:_M'\nWikiPage= requests.get(Wikilink).text\n\n# using beautiful soup to parse the HTML/XML codes.\nsoup = BeautifulSoup(WikiPage,'xml')\n#print(soup.prettify())"
        }, 
        {
            "source": "# Get Data from WikiPedia and use BeautifulSoup", 
            "cell_type": "markdown", 
            "metadata": {}
        }, 
        {
            "execution_count": 5, 
            "cell_type": "code", 
            "metadata": {}, 
            "outputs": [
                {
                    "execution_count": 5, 
                    "metadata": {}, 
                    "data": {
                        "text/plain": "[['Postcode', 'Borough', 'Neighbourhood'],\n ['M1A', 'Not assigned', 'Not assigned'],\n ['M2A', 'Not assigned', 'Not assigned'],\n ['M3A', 'North York', 'Parkwoods'],\n ['M4A', 'North York', 'Victoria Village'],\n ['M5A', 'Downtown Toronto', 'Harbourfront'],\n ['M5A', 'Downtown Toronto', 'Regent Park'],\n ['M6A', 'North York', 'Lawrence Heights'],\n ['M6A', 'North York', 'Lawrence Manor'],\n ['M7A', \"Queen's Park\", 'Not assigned']]"
                    }, 
                    "output_type": "execute_result"
                }
            ], 
            "source": "\n\nurl = \"https://en.wikipedia.org/wiki/List_of_postal_codes_of_Canada:_M\"\n\ntext_result = requests.get(url).text #get the entire html of the article as a str\nhtml_parsed_result = BeautifulSoup(text_result, 'html.parser') #transform the text to html\n\nneighborhood_table = html_parsed_result.find('table', class_ = 'wikitable')\nneighborhood_table_rows = neighborhood_table.find_all('tr')\n\n# extract the info ('Postcode', 'Borough', 'Neighbourhood') from the table\nneighborhood_info = []\nfor row in neighborhood_table_rows:\n    info = row.text.split('\\n')[1:-1] \n    neighborhood_info.append(info)\n    \nneighborhood_info[0:10]\n       "
        }, 
        {
            "source": "# Create Neighbourhood DataFrame ", 
            "cell_type": "markdown", 
            "metadata": {}
        }, 
        {
            "execution_count": 10, 
            "cell_type": "code", 
            "metadata": {}, 
            "outputs": [
                {
                    "execution_count": 10, 
                    "metadata": {}, 
                    "data": {
                        "text/html": "<div>\n<style scoped>\n    .dataframe tbody tr th:only-of-type {\n        vertical-align: middle;\n    }\n\n    .dataframe tbody tr th {\n        vertical-align: top;\n    }\n\n    .dataframe thead th {\n        text-align: right;\n    }\n</style>\n<table border=\"1\" class=\"dataframe\">\n  <thead>\n    <tr style=\"text-align: right;\">\n      <th></th>\n      <th>Postcode</th>\n      <th>Borough</th>\n      <th>Neighborhood</th>\n    </tr>\n  </thead>\n  <tbody>\n    <tr>\n      <th>0</th>\n      <td>M1A</td>\n      <td>Not assigned</td>\n      <td>Not assigned</td>\n    </tr>\n    <tr>\n      <th>1</th>\n      <td>M2A</td>\n      <td>Not assigned</td>\n      <td>Not assigned</td>\n    </tr>\n    <tr>\n      <th>2</th>\n      <td>M3A</td>\n      <td>North York</td>\n      <td>Parkwoods</td>\n    </tr>\n    <tr>\n      <th>3</th>\n      <td>M4A</td>\n      <td>North York</td>\n      <td>Victoria Village</td>\n    </tr>\n    <tr>\n      <th>4</th>\n      <td>M5A</td>\n      <td>Downtown Toronto</td>\n      <td>Harbourfront</td>\n    </tr>\n    <tr>\n      <th>5</th>\n      <td>M5A</td>\n      <td>Downtown Toronto</td>\n      <td>Regent Park</td>\n    </tr>\n    <tr>\n      <th>6</th>\n      <td>M6A</td>\n      <td>North York</td>\n      <td>Lawrence Heights</td>\n    </tr>\n    <tr>\n      <th>7</th>\n      <td>M6A</td>\n      <td>North York</td>\n      <td>Lawrence Manor</td>\n    </tr>\n    <tr>\n      <th>8</th>\n      <td>M7A</td>\n      <td>Queen's Park</td>\n      <td>Not assigned</td>\n    </tr>\n    <tr>\n      <th>9</th>\n      <td>M8A</td>\n      <td>Not assigned</td>\n      <td>Not assigned</td>\n    </tr>\n  </tbody>\n</table>\n</div>", 
                        "text/plain": "  Postcode           Borough      Neighborhood\n0      M1A      Not assigned      Not assigned\n1      M2A      Not assigned      Not assigned\n2      M3A        North York         Parkwoods\n3      M4A        North York  Victoria Village\n4      M5A  Downtown Toronto      Harbourfront\n5      M5A  Downtown Toronto       Regent Park\n6      M6A        North York  Lawrence Heights\n7      M6A        North York    Lawrence Manor\n8      M7A      Queen's Park      Not assigned\n9      M8A      Not assigned      Not assigned"
                    }, 
                    "output_type": "execute_result"
                }
            ], 
            "source": "neighborhood_info[0][-1] = 'Neighborhood'\nneighborhood_df = pd.DataFrame(neighborhood_info[1:], columns=neighborhood_info[0])\n\nneighborhood_df.head(10)"
        }, 
        {
            "source": "#    # Filter out Not Assigned  for Borough and Neighborhood columns", 
            "cell_type": "markdown", 
            "metadata": {}
        }, 
        {
            "execution_count": 41, 
            "cell_type": "code", 
            "metadata": {}, 
            "outputs": [], 
            "source": "not_assigned_boroughs = neighborhood_df.index[neighborhood_df['Borough'] == 'Not assigned']\nnot_assigned_neighborhoods = neighborhood_df.index[neighborhood_df['Neighborhood'] == 'Not assigned']\n"
        }, 
        {
            "execution_count": 43, 
            "cell_type": "code", 
            "metadata": {}, 
            "outputs": [
                {
                    "execution_count": 43, 
                    "metadata": {}, 
                    "data": {
                        "text/html": "<div>\n<style scoped>\n    .dataframe tbody tr th:only-of-type {\n        vertical-align: middle;\n    }\n\n    .dataframe tbody tr th {\n        vertical-align: top;\n    }\n\n    .dataframe thead th {\n        text-align: right;\n    }\n</style>\n<table border=\"1\" class=\"dataframe\">\n  <thead>\n    <tr style=\"text-align: right;\">\n      <th></th>\n      <th>Postcode</th>\n      <th>Borough</th>\n      <th>Neighborhood</th>\n    </tr>\n  </thead>\n  <tbody>\n    <tr>\n      <th>0</th>\n      <td>M3A</td>\n      <td>North York</td>\n      <td>Parkwoods</td>\n    </tr>\n    <tr>\n      <th>1</th>\n      <td>M4A</td>\n      <td>North York</td>\n      <td>Victoria Village</td>\n    </tr>\n    <tr>\n      <th>2</th>\n      <td>M5A</td>\n      <td>Downtown Toronto</td>\n      <td>Harbourfront</td>\n    </tr>\n    <tr>\n      <th>3</th>\n      <td>M5A</td>\n      <td>Downtown Toronto</td>\n      <td>Regent Park</td>\n    </tr>\n    <tr>\n      <th>4</th>\n      <td>M6A</td>\n      <td>North York</td>\n      <td>Lawrence Heights</td>\n    </tr>\n    <tr>\n      <th>5</th>\n      <td>M6A</td>\n      <td>North York</td>\n      <td>Lawrence Manor</td>\n    </tr>\n    <tr>\n      <th>6</th>\n      <td>M7A</td>\n      <td>Queen's Park</td>\n      <td>Queen's Park</td>\n    </tr>\n    <tr>\n      <th>7</th>\n      <td>M9A</td>\n      <td>Etobicoke</td>\n      <td>Islington Avenue</td>\n    </tr>\n    <tr>\n      <th>8</th>\n      <td>M1B</td>\n      <td>Scarborough</td>\n      <td>Rouge</td>\n    </tr>\n    <tr>\n      <th>9</th>\n      <td>M1B</td>\n      <td>Scarborough</td>\n      <td>Malvern</td>\n    </tr>\n  </tbody>\n</table>\n</div>", 
                        "text/plain": "  Postcode           Borough      Neighborhood\n0      M3A        North York         Parkwoods\n1      M4A        North York  Victoria Village\n2      M5A  Downtown Toronto      Harbourfront\n3      M5A  Downtown Toronto       Regent Park\n4      M6A        North York  Lawrence Heights\n5      M6A        North York    Lawrence Manor\n6      M7A      Queen's Park      Queen's Park\n7      M9A         Etobicoke  Islington Avenue\n8      M1B       Scarborough             Rouge\n9      M1B       Scarborough           Malvern"
                    }, 
                    "output_type": "execute_result"
                }
            ], 
            "source": "not_assigned_neighborhoods_and_borough = not_assigned_boroughs & not_assigned_neighborhoods\nneighborhood_df.drop(neighborhood_df.index[not_assigned_boroughs], inplace=True)\nneighborhood_df.reset_index(drop=True, inplace=True)\n\nneighborhood_df.head(10)"
        }, 
        {
            "execution_count": 12, 
            "cell_type": "code", 
            "metadata": {}, 
            "outputs": [
                {
                    "execution_count": 12, 
                    "metadata": {}, 
                    "data": {
                        "text/html": "<div>\n<style scoped>\n    .dataframe tbody tr th:only-of-type {\n        vertical-align: middle;\n    }\n\n    .dataframe tbody tr th {\n        vertical-align: top;\n    }\n\n    .dataframe thead th {\n        text-align: right;\n    }\n</style>\n<table border=\"1\" class=\"dataframe\">\n  <thead>\n    <tr style=\"text-align: right;\">\n      <th></th>\n      <th>Postcode</th>\n      <th>Borough</th>\n      <th>Neighborhood</th>\n    </tr>\n  </thead>\n  <tbody>\n    <tr>\n      <th>0</th>\n      <td>M3A</td>\n      <td>North York</td>\n      <td>Parkwoods</td>\n    </tr>\n    <tr>\n      <th>1</th>\n      <td>M4A</td>\n      <td>North York</td>\n      <td>Victoria Village</td>\n    </tr>\n    <tr>\n      <th>2</th>\n      <td>M5A</td>\n      <td>Downtown Toronto</td>\n      <td>Harbourfront</td>\n    </tr>\n    <tr>\n      <th>3</th>\n      <td>M5A</td>\n      <td>Downtown Toronto</td>\n      <td>Regent Park</td>\n    </tr>\n    <tr>\n      <th>4</th>\n      <td>M6A</td>\n      <td>North York</td>\n      <td>Lawrence Heights</td>\n    </tr>\n    <tr>\n      <th>5</th>\n      <td>M6A</td>\n      <td>North York</td>\n      <td>Lawrence Manor</td>\n    </tr>\n    <tr>\n      <th>6</th>\n      <td>M7A</td>\n      <td>Queen's Park</td>\n      <td>Queen's Park</td>\n    </tr>\n    <tr>\n      <th>7</th>\n      <td>M9A</td>\n      <td>Etobicoke</td>\n      <td>Islington Avenue</td>\n    </tr>\n    <tr>\n      <th>8</th>\n      <td>M1B</td>\n      <td>Scarborough</td>\n      <td>Rouge</td>\n    </tr>\n    <tr>\n      <th>9</th>\n      <td>M1B</td>\n      <td>Scarborough</td>\n      <td>Malvern</td>\n    </tr>\n  </tbody>\n</table>\n</div>", 
                        "text/plain": "  Postcode           Borough      Neighborhood\n0      M3A        North York         Parkwoods\n1      M4A        North York  Victoria Village\n2      M5A  Downtown Toronto      Harbourfront\n3      M5A  Downtown Toronto       Regent Park\n4      M6A        North York  Lawrence Heights\n5      M6A        North York    Lawrence Manor\n6      M7A      Queen's Park      Queen's Park\n7      M9A         Etobicoke  Islington Avenue\n8      M1B       Scarborough             Rouge\n9      M1B       Scarborough           Malvern"
                    }, 
                    "output_type": "execute_result"
                }
            ], 
            "source": "\n\nnot_assigned_neighborhoods = neighborhood_df.index[neighborhood_df['Neighborhood'] == 'Not assigned'] # run this again because the indexes on the dataframe where reset\n\nfor idx in not_assigned_neighborhoods:\n    neighborhood_df['Neighborhood'][idx] = neighborhood_df['Borough'][idx]\n    \nneighborhood_df.head(10)\n\n"
        }, 
        {
            "source": "# Printing Data Frame Details;", 
            "cell_type": "markdown", 
            "metadata": {}
        }, 
        {
            "execution_count": 13, 
            "cell_type": "code", 
            "metadata": {}, 
            "outputs": [
                {
                    "output_type": "stream", 
                    "name": "stdout", 
                    "text": "After cleaning the DataFrame, its new shape is (212, 3) \n\nThere are:\n  103 Postal codes\n  11 Boroughs\n  210 Neighborhoods\n"
                }
            ], 
            "source": "\n\nprint('After cleaning the DataFrame, its new shape is {}'.format(neighborhood_df.shape),'\\n')\nprint('There are:')\nprint('  {} Postal codes'.format(neighborhood_df['Postcode'].unique().shape[0]))\nprint('  {} Boroughs'.format(neighborhood_df['Borough'].unique().shape[0]))\nprint('  {} Neighborhoods'.format(neighborhood_df['Neighborhood'].unique().shape[0]))\n\n"
        }, 
        {
            "source": "## Note there are more Neighbourhoods than postal code. So We will merge Neighbourhood which has common PostalCode.", 
            "cell_type": "markdown", 
            "metadata": {}
        }, 
        {
            "source": "# Grouping of Neighbourhood based on PIN Code", 
            "cell_type": "markdown", 
            "metadata": {}
        }, 
        {
            "execution_count": 14, 
            "cell_type": "code", 
            "metadata": {}, 
            "outputs": [
                {
                    "execution_count": 14, 
                    "metadata": {}, 
                    "data": {
                        "text/html": "<div>\n<style scoped>\n    .dataframe tbody tr th:only-of-type {\n        vertical-align: middle;\n    }\n\n    .dataframe tbody tr th {\n        vertical-align: top;\n    }\n\n    .dataframe thead th {\n        text-align: right;\n    }\n</style>\n<table border=\"1\" class=\"dataframe\">\n  <thead>\n    <tr style=\"text-align: right;\">\n      <th></th>\n      <th>Postcode</th>\n      <th>Borough</th>\n      <th>Neighborhood</th>\n    </tr>\n  </thead>\n  <tbody>\n    <tr>\n      <th>0</th>\n      <td>M1B</td>\n      <td>Scarborough</td>\n      <td>Rouge, Malvern</td>\n    </tr>\n    <tr>\n      <th>1</th>\n      <td>M1C</td>\n      <td>Scarborough</td>\n      <td>Highland Creek, Rouge Hill, Port Union</td>\n    </tr>\n    <tr>\n      <th>2</th>\n      <td>M1E</td>\n      <td>Scarborough</td>\n      <td>Guildwood, Morningside, West Hill</td>\n    </tr>\n    <tr>\n      <th>3</th>\n      <td>M1G</td>\n      <td>Scarborough</td>\n      <td>Woburn</td>\n    </tr>\n    <tr>\n      <th>4</th>\n      <td>M1H</td>\n      <td>Scarborough</td>\n      <td>Cedarbrae</td>\n    </tr>\n    <tr>\n      <th>5</th>\n      <td>M1J</td>\n      <td>Scarborough</td>\n      <td>Scarborough Village</td>\n    </tr>\n    <tr>\n      <th>6</th>\n      <td>M1K</td>\n      <td>Scarborough</td>\n      <td>East Birchmount Park, Ionview, Kennedy Park</td>\n    </tr>\n    <tr>\n      <th>7</th>\n      <td>M1L</td>\n      <td>Scarborough</td>\n      <td>Clairlea, Golden Mile, Oakridge</td>\n    </tr>\n    <tr>\n      <th>8</th>\n      <td>M1M</td>\n      <td>Scarborough</td>\n      <td>Cliffcrest, Cliffside, Scarborough Village West</td>\n    </tr>\n    <tr>\n      <th>9</th>\n      <td>M1N</td>\n      <td>Scarborough</td>\n      <td>Birch Cliff, Cliffside West</td>\n    </tr>\n  </tbody>\n</table>\n</div>", 
                        "text/plain": "  Postcode      Borough                                     Neighborhood\n0      M1B  Scarborough                                   Rouge, Malvern\n1      M1C  Scarborough           Highland Creek, Rouge Hill, Port Union\n2      M1E  Scarborough                Guildwood, Morningside, West Hill\n3      M1G  Scarborough                                           Woburn\n4      M1H  Scarborough                                        Cedarbrae\n5      M1J  Scarborough                              Scarborough Village\n6      M1K  Scarborough      East Birchmount Park, Ionview, Kennedy Park\n7      M1L  Scarborough                  Clairlea, Golden Mile, Oakridge\n8      M1M  Scarborough  Cliffcrest, Cliffside, Scarborough Village West\n9      M1N  Scarborough                      Birch Cliff, Cliffside West"
                    }, 
                    "output_type": "execute_result"
                }
            ], 
            "source": "group = neighborhood_df.groupby('Postcode')\ngrouped_neighborhoods = group['Neighborhood'].apply(lambda x: \"%s\" % ', '.join(x))\ngrouped_boroughs = group['Borough'].apply(lambda x: set(x).pop())\ngrouped_df = pd.DataFrame(list(zip(grouped_boroughs.index, grouped_boroughs, grouped_neighborhoods)))\ngrouped_df.columns = ['Postcode', 'Borough', 'Neighborhood']\n\ngrouped_df.head(10)"
        }, 
        {
            "execution_count": 15, 
            "cell_type": "code", 
            "metadata": {}, 
            "outputs": [
                {
                    "output_type": "stream", 
                    "name": "stdout", 
                    "text": "The DataFrame shape is (103, 3)\n"
                }
            ], 
            "source": "\n\nprint('The DataFrame shape is', grouped_df.shape)\n\n"
        }, 
        {
            "source": "# Get Co-Ordinates for each Postal Code", 
            "cell_type": "markdown", 
            "metadata": {}
        }, 
        {
            "execution_count": 17, 
            "cell_type": "code", 
            "metadata": {}, 
            "outputs": [
                {
                    "output_type": "stream", 
                    "name": "stdout", 
                    "text": "The coordinates dataframe shape is (103, 3)\n"
                }, 
                {
                    "execution_count": 17, 
                    "metadata": {}, 
                    "data": {
                        "text/html": "<div>\n<style scoped>\n    .dataframe tbody tr th:only-of-type {\n        vertical-align: middle;\n    }\n\n    .dataframe tbody tr th {\n        vertical-align: top;\n    }\n\n    .dataframe thead th {\n        text-align: right;\n    }\n</style>\n<table border=\"1\" class=\"dataframe\">\n  <thead>\n    <tr style=\"text-align: right;\">\n      <th></th>\n      <th>Postal Code</th>\n      <th>Latitude</th>\n      <th>Longitude</th>\n    </tr>\n  </thead>\n  <tbody>\n    <tr>\n      <th>0</th>\n      <td>M1B</td>\n      <td>43.806686</td>\n      <td>-79.194353</td>\n    </tr>\n    <tr>\n      <th>1</th>\n      <td>M1C</td>\n      <td>43.784535</td>\n      <td>-79.160497</td>\n    </tr>\n    <tr>\n      <th>2</th>\n      <td>M1E</td>\n      <td>43.763573</td>\n      <td>-79.188711</td>\n    </tr>\n    <tr>\n      <th>3</th>\n      <td>M1G</td>\n      <td>43.770992</td>\n      <td>-79.216917</td>\n    </tr>\n    <tr>\n      <th>4</th>\n      <td>M1H</td>\n      <td>43.773136</td>\n      <td>-79.239476</td>\n    </tr>\n  </tbody>\n</table>\n</div>", 
                        "text/plain": "  Postal Code   Latitude  Longitude\n0         M1B  43.806686 -79.194353\n1         M1C  43.784535 -79.160497\n2         M1E  43.763573 -79.188711\n3         M1G  43.770992 -79.216917\n4         M1H  43.773136 -79.239476"
                    }, 
                    "output_type": "execute_result"
                }
            ], 
            "source": "\ncoordinates_df = pd.read_csv('https://cocl.us/Geospatial_data') # transform the csv file into a dataframe\n\nprint('The coordinates dataframe shape is', coordinates_df.shape)\ncoordinates_df.head()\n\n"
        }, 
        {
            "execution_count": 18, 
            "cell_type": "code", 
            "metadata": {}, 
            "outputs": [
                {
                    "execution_count": 18, 
                    "metadata": {}, 
                    "data": {
                        "text/html": "<div>\n<style scoped>\n    .dataframe tbody tr th:only-of-type {\n        vertical-align: middle;\n    }\n\n    .dataframe tbody tr th {\n        vertical-align: top;\n    }\n\n    .dataframe thead th {\n        text-align: right;\n    }\n</style>\n<table border=\"1\" class=\"dataframe\">\n  <thead>\n    <tr style=\"text-align: right;\">\n      <th></th>\n      <th>Postcode</th>\n      <th>Borough</th>\n      <th>Neighborhood</th>\n      <th>Latitude</th>\n      <th>Longitude</th>\n    </tr>\n  </thead>\n  <tbody>\n    <tr>\n      <th>0</th>\n      <td>M1B</td>\n      <td>Scarborough</td>\n      <td>Rouge, Malvern</td>\n      <td>43.806686</td>\n      <td>-79.194353</td>\n    </tr>\n    <tr>\n      <th>1</th>\n      <td>M1C</td>\n      <td>Scarborough</td>\n      <td>Highland Creek, Rouge Hill, Port Union</td>\n      <td>43.784535</td>\n      <td>-79.160497</td>\n    </tr>\n    <tr>\n      <th>2</th>\n      <td>M1E</td>\n      <td>Scarborough</td>\n      <td>Guildwood, Morningside, West Hill</td>\n      <td>43.763573</td>\n      <td>-79.188711</td>\n    </tr>\n    <tr>\n      <th>3</th>\n      <td>M1G</td>\n      <td>Scarborough</td>\n      <td>Woburn</td>\n      <td>43.770992</td>\n      <td>-79.216917</td>\n    </tr>\n    <tr>\n      <th>4</th>\n      <td>M1H</td>\n      <td>Scarborough</td>\n      <td>Cedarbrae</td>\n      <td>43.773136</td>\n      <td>-79.239476</td>\n    </tr>\n    <tr>\n      <th>5</th>\n      <td>M1J</td>\n      <td>Scarborough</td>\n      <td>Scarborough Village</td>\n      <td>43.744734</td>\n      <td>-79.239476</td>\n    </tr>\n    <tr>\n      <th>6</th>\n      <td>M1K</td>\n      <td>Scarborough</td>\n      <td>East Birchmount Park, Ionview, Kennedy Park</td>\n      <td>43.727929</td>\n      <td>-79.262029</td>\n    </tr>\n    <tr>\n      <th>7</th>\n      <td>M1L</td>\n      <td>Scarborough</td>\n      <td>Clairlea, Golden Mile, Oakridge</td>\n      <td>43.711112</td>\n      <td>-79.284577</td>\n    </tr>\n    <tr>\n      <th>8</th>\n      <td>M1M</td>\n      <td>Scarborough</td>\n      <td>Cliffcrest, Cliffside, Scarborough Village West</td>\n      <td>43.716316</td>\n      <td>-79.239476</td>\n    </tr>\n    <tr>\n      <th>9</th>\n      <td>M1N</td>\n      <td>Scarborough</td>\n      <td>Birch Cliff, Cliffside West</td>\n      <td>43.692657</td>\n      <td>-79.264848</td>\n    </tr>\n    <tr>\n      <th>10</th>\n      <td>M1P</td>\n      <td>Scarborough</td>\n      <td>Dorset Park, Scarborough Town Centre, Wexford ...</td>\n      <td>43.757410</td>\n      <td>-79.273304</td>\n    </tr>\n    <tr>\n      <th>11</th>\n      <td>M1R</td>\n      <td>Scarborough</td>\n      <td>Maryvale, Wexford</td>\n      <td>43.750072</td>\n      <td>-79.295849</td>\n    </tr>\n    <tr>\n      <th>12</th>\n      <td>M1S</td>\n      <td>Scarborough</td>\n      <td>Agincourt</td>\n      <td>43.794200</td>\n      <td>-79.262029</td>\n    </tr>\n    <tr>\n      <th>13</th>\n      <td>M1T</td>\n      <td>Scarborough</td>\n      <td>Clarks Corners, Sullivan, Tam O'Shanter</td>\n      <td>43.781638</td>\n      <td>-79.304302</td>\n    </tr>\n    <tr>\n      <th>14</th>\n      <td>M1V</td>\n      <td>Scarborough</td>\n      <td>Agincourt North, L'Amoreaux East, Milliken, St...</td>\n      <td>43.815252</td>\n      <td>-79.284577</td>\n    </tr>\n    <tr>\n      <th>15</th>\n      <td>M1W</td>\n      <td>Scarborough</td>\n      <td>L'Amoreaux West, Steeles West</td>\n      <td>43.799525</td>\n      <td>-79.318389</td>\n    </tr>\n  </tbody>\n</table>\n</div>", 
                        "text/plain": "   Postcode      Borough                                       Neighborhood  \\\n0       M1B  Scarborough                                     Rouge, Malvern   \n1       M1C  Scarborough             Highland Creek, Rouge Hill, Port Union   \n2       M1E  Scarborough                  Guildwood, Morningside, West Hill   \n3       M1G  Scarborough                                             Woburn   \n4       M1H  Scarborough                                          Cedarbrae   \n5       M1J  Scarborough                                Scarborough Village   \n6       M1K  Scarborough        East Birchmount Park, Ionview, Kennedy Park   \n7       M1L  Scarborough                    Clairlea, Golden Mile, Oakridge   \n8       M1M  Scarborough    Cliffcrest, Cliffside, Scarborough Village West   \n9       M1N  Scarborough                        Birch Cliff, Cliffside West   \n10      M1P  Scarborough  Dorset Park, Scarborough Town Centre, Wexford ...   \n11      M1R  Scarborough                                  Maryvale, Wexford   \n12      M1S  Scarborough                                          Agincourt   \n13      M1T  Scarborough            Clarks Corners, Sullivan, Tam O'Shanter   \n14      M1V  Scarborough  Agincourt North, L'Amoreaux East, Milliken, St...   \n15      M1W  Scarborough                      L'Amoreaux West, Steeles West   \n\n     Latitude  Longitude  \n0   43.806686 -79.194353  \n1   43.784535 -79.160497  \n2   43.763573 -79.188711  \n3   43.770992 -79.216917  \n4   43.773136 -79.239476  \n5   43.744734 -79.239476  \n6   43.727929 -79.262029  \n7   43.711112 -79.284577  \n8   43.716316 -79.239476  \n9   43.692657 -79.264848  \n10  43.757410 -79.273304  \n11  43.750072 -79.295849  \n12  43.794200 -79.262029  \n13  43.781638 -79.304302  \n14  43.815252 -79.284577  \n15  43.799525 -79.318389  "
                    }, 
                    "output_type": "execute_result"
                }
            ], 
            "source": "postcodes_with_coordinates_df = grouped_df.join(coordinates_df.set_index('Postal Code'), on='Postcode')\n\npostcodes_with_coordinates_df.head(16)"
        }, 
        {
            "source": "# Use FourSquare to get Venues bases on Longitude and Latitudes", 
            "cell_type": "markdown", 
            "metadata": {}
        }, 
        {
            "execution_count": 19, 
            "cell_type": "code", 
            "metadata": {}, 
            "outputs": [
                {
                    "output_type": "stream", 
                    "name": "stdout", 
                    "text": "Your credentails:\nCLIENT_ID: C0KAOQEIT4JKPYXRBHL1RRXD5ARMZSDODSHTZZUAPJCUSNOO\nCLIENT_SECRET:KL0PV2VX1J1SDSRNRWRT4AR2TKYYBEZNJ3D43LPBVJUZV0U3\n"
                }
            ], 
            "source": "\nCLIENT_ID = 'C0KAOQEIT4JKPYXRBHL1RRXD5ARMZSDODSHTZZUAPJCUSNOO' # your Foursquare ID\nCLIENT_SECRET = 'KL0PV2VX1J1SDSRNRWRT4AR2TKYYBEZNJ3D43LPBVJUZV0U3' # your Foursquare Secret\nVERSION = '20180604'\nLIMIT = 30\nprint('Your credentails:')\nprint('CLIENT_ID: ' + CLIENT_ID)\nprint('CLIENT_SECRET:' + CLIENT_SECRET)"
        }, 
        {
            "execution_count": null, 
            "cell_type": "code", 
            "metadata": {}, 
            "outputs": [], 
            "source": ""
        }, 
        {
            "execution_count": 20, 
            "cell_type": "code", 
            "metadata": {}, 
            "outputs": [], 
            "source": "\n\n#function to format url\ndef format_url(lat, lng, radius=500, limit=100):\n    return 'https://api.foursquare.com/v2/venues/explore?client_id={}&client_secret={}&ll={},{}&v={}&radius={}&limit={}'.format(CLIENT_ID, CLIENT_SECRET, \n        lat, lng, VERSION, radius, limit)\n\n"
        }, 
        {
            "execution_count": 22, 
            "cell_type": "code", 
            "metadata": {}, 
            "outputs": [
                {
                    "execution_count": 22, 
                    "metadata": {}, 
                    "data": {
                        "text/plain": "'https://api.foursquare.com/v2/venues/explore?client_id=C0KAOQEIT4JKPYXRBHL1RRXD5ARMZSDODSHTZZUAPJCUSNOO&client_secret=KL0PV2VX1J1SDSRNRWRT4AR2TKYYBEZNJ3D43LPBVJUZV0U3&ll=43.7635726,-79.1887115&v=20180604&radius=500&limit=100'"
                    }, 
                    "output_type": "execute_result"
                }
            ], 
            "source": "first_postcode = postcodes_with_coordinates_df.iloc[2, :]\nurl = format_url(first_postcode['Latitude'], first_postcode['Longitude'])\n\nurl"
        }, 
        {
            "execution_count": 29, 
            "cell_type": "code", 
            "metadata": {}, 
            "outputs": [], 
            "source": "#function to get batch of venues as a dataframe\nimport json\nfrom pandas.io.json import json_normalize\ndef get_venues(url):\n    results = requests.get(url).json()\n    venues = results['response']['groups'][0]['items']\n    print(venues)\n    return json_normalize(venues)"
        }, 
        {
            "execution_count": 30, 
            "cell_type": "code", 
            "metadata": {}, 
            "outputs": [
                {
                    "output_type": "stream", 
                    "name": "stdout", 
                    "text": "[{'referralId': 'e-0-4b6074e3f964a5200fe729e3-0', 'venue': {'photos': {'groups': [], 'count': 0}, 'id': '4b6074e3f964a5200fe729e3', 'name': 'Swiss Chalet Rotisserie & Grill', 'categories': [{'icon': {'suffix': '.png', 'prefix': 'https://ss3.4sqi.net/img/categories_v2/food/pizza_'}, 'id': '4bf58dd8d48988d1ca941735', 'primary': True, 'shortName': 'Pizza', 'pluralName': 'Pizza Places', 'name': 'Pizza Place'}], 'location': {'lat': 43.76769708292701, 'postalCode': 'M1E 2N5', 'distance': 469, 'address': '4410 Kingston Rd', 'formattedAddress': ['4410 Kingston Rd', 'Scarborough ON M1E 2N5', 'Canada'], 'city': 'Scarborough', 'country': 'Canada', 'state': 'ON', 'labeledLatLngs': [{'lat': 43.76769708292701, 'label': 'display', 'lng': -79.1899135003439}], 'lng': -79.1899135003439, 'cc': 'CA'}}, 'reasons': {'count': 0, 'items': [{'type': 'general', 'reasonName': 'globalInteractionReason', 'summary': 'This spot is popular'}]}}, {'referralId': 'e-0-4c62f34bde1b2d7fec89e370-1', 'venue': {'photos': {'groups': [], 'count': 0}, 'id': '4c62f34bde1b2d7fec89e370', 'name': 'G & G Electronics', 'categories': [{'icon': {'suffix': '.png', 'prefix': 'https://ss3.4sqi.net/img/categories_v2/shops/technology_'}, 'id': '4bf58dd8d48988d122951735', 'primary': True, 'shortName': 'Electronics', 'pluralName': 'Electronics Stores', 'name': 'Electronics Store'}], 'location': {'lat': 43.765309, 'postalCode': 'M1E 2M9', 'distance': 298, 'address': '4371 kingston road', 'formattedAddress': ['4371 kingston road', 'Toronto ON M1E 2M9', 'Canada'], 'city': 'Toronto', 'country': 'Canada', 'state': 'ON', 'labeledLatLngs': [{'lat': 43.765309, 'label': 'display', 'lng': -79.191537}], 'lng': -79.191537, 'cc': 'CA'}}, 'reasons': {'count': 0, 'items': [{'type': 'general', 'reasonName': 'globalInteractionReason', 'summary': 'This spot is popular'}]}}, {'referralId': 'e-0-5411f741498e9ebd5e35d8bd-2', 'venue': {'photos': {'groups': [], 'count': 0}, 'id': '5411f741498e9ebd5e35d8bd', 'name': 'Big Bite Burrito', 'categories': [{'icon': {'suffix': '.png', 'prefix': 'https://ss3.4sqi.net/img/categories_v2/food/mexican_'}, 'id': '4bf58dd8d48988d1c1941735', 'primary': True, 'shortName': 'Mexican', 'pluralName': 'Mexican Restaurants', 'name': 'Mexican Restaurant'}], 'location': {'lat': 43.766299084470795, 'distance': 343, 'address': '4383 Kingston rd.', 'formattedAddress': ['4383 Kingston rd.', 'Scarborough ON', 'Canada'], 'city': 'Scarborough', 'country': 'Canada', 'state': 'ON', 'labeledLatLngs': [{'lat': 43.766299084470795, 'label': 'display', 'lng': -79.19071980583941}], 'lng': -79.19071980583941, 'cc': 'CA'}}, 'reasons': {'count': 0, 'items': [{'type': 'general', 'reasonName': 'globalInteractionReason', 'summary': 'This spot is popular'}]}}, {'referralId': 'e-0-4c1c7f9bb306c9288f0464b7-3', 'venue': {'photos': {'groups': [], 'count': 0}, 'id': '4c1c7f9bb306c9288f0464b7', 'name': 'Enterprise Rent-A-Car', 'categories': [{'icon': {'suffix': '.png', 'prefix': 'https://ss3.4sqi.net/img/categories_v2/shops/airport_rentalcar_'}, 'id': '4bf58dd8d48988d1ef941735', 'primary': True, 'shortName': 'Rental Car', 'pluralName': 'Rental Car Locations', 'name': 'Rental Car Location'}], 'location': {'lat': 43.76404170000001, 'postalCode': 'M1E 2M8', 'distance': 378, 'address': '4304 Kingston Road', 'formattedAddress': ['4304 Kingston Road', 'Scarborough ON M1E 2M8', 'Canada'], 'city': 'Scarborough', 'country': 'Canada', 'state': 'ON', 'labeledLatLngs': [{'lat': 43.76404170000001, 'label': 'display', 'lng': -79.1933707}], 'lng': -79.1933707, 'cc': 'CA'}}, 'reasons': {'count': 0, 'items': [{'type': 'general', 'reasonName': 'globalInteractionReason', 'summary': 'This spot is popular'}]}}, {'referralId': 'e-0-4b9008acf964a520737133e3-4', 'venue': {'photos': {'groups': [], 'count': 0}, 'id': '4b9008acf964a520737133e3', 'name': 'Woburn Medical Centre', 'categories': [{'icon': {'suffix': '.png', 'prefix': 'https://ss3.4sqi.net/img/categories_v2/building/medical_'}, 'id': '4bf58dd8d48988d104941735', 'primary': True, 'shortName': 'Medical', 'pluralName': 'Medical Centers', 'name': 'Medical Center'}], 'location': {'formattedAddress': ['4125 Lawrence Ave E (Kingston Rd)', 'West Hill ON', 'Canada'], 'lat': 43.766631153138455, 'distance': 445, 'address': '4125 Lawrence Ave E', 'crossStreet': 'Kingston Rd', 'city': 'West Hill', 'country': 'Canada', 'state': 'ON', 'labeledLatLngs': [{'lat': 43.766631153138455, 'label': 'display', 'lng': -79.19228553771973}], 'lng': -79.19228553771973, 'cc': 'CA'}}, 'reasons': {'count': 0, 'items': [{'type': 'general', 'reasonName': 'globalInteractionReason', 'summary': 'This spot is popular'}]}}, {'referralId': 'e-0-4d95bd2ddaec224bf7bf043e-5', 'venue': {'photos': {'groups': [], 'count': 0}, 'id': '4d95bd2ddaec224bf7bf043e', 'name': 'Eggsmart', 'categories': [{'icon': {'suffix': '.png', 'prefix': 'https://ss3.4sqi.net/img/categories_v2/food/breakfast_'}, 'id': '4bf58dd8d48988d143941735', 'primary': True, 'shortName': 'Breakfast', 'pluralName': 'Breakfast Spots', 'name': 'Breakfast Spot'}], 'location': {'distance': 491, 'crossStreet': 'at Lawerence Ave. E', 'city': 'Toronto', 'labeledLatLngs': [{'lat': 43.7678, 'label': 'display', 'lng': -79.190466}], 'lng': -79.190466, 'cc': 'CA', 'lat': 43.7678, 'postalCode': 'M1E 2N4', 'address': '4410 Kingston Rd.', 'formattedAddress': ['4410 Kingston Rd. (at Lawerence Ave. E)', 'Toronto ON M1E 2N4', 'Canada'], 'country': 'Canada', 'state': 'ON'}}, 'reasons': {'count': 0, 'items': [{'type': 'general', 'reasonName': 'globalInteractionReason', 'summary': 'This spot is popular'}]}}]\n"
                }, 
                {
                    "execution_count": 30, 
                    "metadata": {}, 
                    "data": {
                        "text/html": "<div>\n<style scoped>\n    .dataframe tbody tr th:only-of-type {\n        vertical-align: middle;\n    }\n\n    .dataframe tbody tr th {\n        vertical-align: top;\n    }\n\n    .dataframe thead th {\n        text-align: right;\n    }\n</style>\n<table border=\"1\" class=\"dataframe\">\n  <thead>\n    <tr style=\"text-align: right;\">\n      <th></th>\n      <th>reasons.count</th>\n      <th>reasons.items</th>\n      <th>referralId</th>\n      <th>venue.categories</th>\n      <th>venue.id</th>\n      <th>venue.location.address</th>\n      <th>venue.location.cc</th>\n      <th>venue.location.city</th>\n      <th>venue.location.country</th>\n      <th>venue.location.crossStreet</th>\n      <th>venue.location.distance</th>\n      <th>venue.location.formattedAddress</th>\n      <th>venue.location.labeledLatLngs</th>\n      <th>venue.location.lat</th>\n      <th>venue.location.lng</th>\n      <th>venue.location.postalCode</th>\n      <th>venue.location.state</th>\n      <th>venue.name</th>\n      <th>venue.photos.count</th>\n      <th>venue.photos.groups</th>\n    </tr>\n  </thead>\n  <tbody>\n    <tr>\n      <th>0</th>\n      <td>0</td>\n      <td>[{'type': 'general', 'reasonName': 'globalInte...</td>\n      <td>e-0-4b6074e3f964a5200fe729e3-0</td>\n      <td>[{'icon': {'suffix': '.png', 'prefix': 'https:...</td>\n      <td>4b6074e3f964a5200fe729e3</td>\n      <td>4410 Kingston Rd</td>\n      <td>CA</td>\n      <td>Scarborough</td>\n      <td>Canada</td>\n      <td>NaN</td>\n      <td>469</td>\n      <td>[4410 Kingston Rd, Scarborough ON M1E 2N5, Can...</td>\n      <td>[{'lat': 43.76769708292701, 'label': 'display'...</td>\n      <td>43.767697</td>\n      <td>-79.189914</td>\n      <td>M1E 2N5</td>\n      <td>ON</td>\n      <td>Swiss Chalet Rotisserie &amp; Grill</td>\n      <td>0</td>\n      <td>[]</td>\n    </tr>\n    <tr>\n      <th>1</th>\n      <td>0</td>\n      <td>[{'type': 'general', 'reasonName': 'globalInte...</td>\n      <td>e-0-4c62f34bde1b2d7fec89e370-1</td>\n      <td>[{'icon': {'suffix': '.png', 'prefix': 'https:...</td>\n      <td>4c62f34bde1b2d7fec89e370</td>\n      <td>4371 kingston road</td>\n      <td>CA</td>\n      <td>Toronto</td>\n      <td>Canada</td>\n      <td>NaN</td>\n      <td>298</td>\n      <td>[4371 kingston road, Toronto ON M1E 2M9, Canada]</td>\n      <td>[{'lat': 43.765309, 'label': 'display', 'lng':...</td>\n      <td>43.765309</td>\n      <td>-79.191537</td>\n      <td>M1E 2M9</td>\n      <td>ON</td>\n      <td>G &amp; G Electronics</td>\n      <td>0</td>\n      <td>[]</td>\n    </tr>\n    <tr>\n      <th>2</th>\n      <td>0</td>\n      <td>[{'type': 'general', 'reasonName': 'globalInte...</td>\n      <td>e-0-5411f741498e9ebd5e35d8bd-2</td>\n      <td>[{'icon': {'suffix': '.png', 'prefix': 'https:...</td>\n      <td>5411f741498e9ebd5e35d8bd</td>\n      <td>4383 Kingston rd.</td>\n      <td>CA</td>\n      <td>Scarborough</td>\n      <td>Canada</td>\n      <td>NaN</td>\n      <td>343</td>\n      <td>[4383 Kingston rd., Scarborough ON, Canada]</td>\n      <td>[{'lat': 43.766299084470795, 'label': 'display...</td>\n      <td>43.766299</td>\n      <td>-79.190720</td>\n      <td>NaN</td>\n      <td>ON</td>\n      <td>Big Bite Burrito</td>\n      <td>0</td>\n      <td>[]</td>\n    </tr>\n    <tr>\n      <th>3</th>\n      <td>0</td>\n      <td>[{'type': 'general', 'reasonName': 'globalInte...</td>\n      <td>e-0-4c1c7f9bb306c9288f0464b7-3</td>\n      <td>[{'icon': {'suffix': '.png', 'prefix': 'https:...</td>\n      <td>4c1c7f9bb306c9288f0464b7</td>\n      <td>4304 Kingston Road</td>\n      <td>CA</td>\n      <td>Scarborough</td>\n      <td>Canada</td>\n      <td>NaN</td>\n      <td>378</td>\n      <td>[4304 Kingston Road, Scarborough ON M1E 2M8, C...</td>\n      <td>[{'lat': 43.76404170000001, 'label': 'display'...</td>\n      <td>43.764042</td>\n      <td>-79.193371</td>\n      <td>M1E 2M8</td>\n      <td>ON</td>\n      <td>Enterprise Rent-A-Car</td>\n      <td>0</td>\n      <td>[]</td>\n    </tr>\n    <tr>\n      <th>4</th>\n      <td>0</td>\n      <td>[{'type': 'general', 'reasonName': 'globalInte...</td>\n      <td>e-0-4b9008acf964a520737133e3-4</td>\n      <td>[{'icon': {'suffix': '.png', 'prefix': 'https:...</td>\n      <td>4b9008acf964a520737133e3</td>\n      <td>4125 Lawrence Ave E</td>\n      <td>CA</td>\n      <td>West Hill</td>\n      <td>Canada</td>\n      <td>Kingston Rd</td>\n      <td>445</td>\n      <td>[4125 Lawrence Ave E (Kingston Rd), West Hill ...</td>\n      <td>[{'lat': 43.766631153138455, 'label': 'display...</td>\n      <td>43.766631</td>\n      <td>-79.192286</td>\n      <td>NaN</td>\n      <td>ON</td>\n      <td>Woburn Medical Centre</td>\n      <td>0</td>\n      <td>[]</td>\n    </tr>\n  </tbody>\n</table>\n</div>", 
                        "text/plain": "   reasons.count                                      reasons.items  \\\n0              0  [{'type': 'general', 'reasonName': 'globalInte...   \n1              0  [{'type': 'general', 'reasonName': 'globalInte...   \n2              0  [{'type': 'general', 'reasonName': 'globalInte...   \n3              0  [{'type': 'general', 'reasonName': 'globalInte...   \n4              0  [{'type': 'general', 'reasonName': 'globalInte...   \n\n                       referralId  \\\n0  e-0-4b6074e3f964a5200fe729e3-0   \n1  e-0-4c62f34bde1b2d7fec89e370-1   \n2  e-0-5411f741498e9ebd5e35d8bd-2   \n3  e-0-4c1c7f9bb306c9288f0464b7-3   \n4  e-0-4b9008acf964a520737133e3-4   \n\n                                    venue.categories  \\\n0  [{'icon': {'suffix': '.png', 'prefix': 'https:...   \n1  [{'icon': {'suffix': '.png', 'prefix': 'https:...   \n2  [{'icon': {'suffix': '.png', 'prefix': 'https:...   \n3  [{'icon': {'suffix': '.png', 'prefix': 'https:...   \n4  [{'icon': {'suffix': '.png', 'prefix': 'https:...   \n\n                   venue.id venue.location.address venue.location.cc  \\\n0  4b6074e3f964a5200fe729e3       4410 Kingston Rd                CA   \n1  4c62f34bde1b2d7fec89e370     4371 kingston road                CA   \n2  5411f741498e9ebd5e35d8bd      4383 Kingston rd.                CA   \n3  4c1c7f9bb306c9288f0464b7     4304 Kingston Road                CA   \n4  4b9008acf964a520737133e3    4125 Lawrence Ave E                CA   \n\n  venue.location.city venue.location.country venue.location.crossStreet  \\\n0         Scarborough                 Canada                        NaN   \n1             Toronto                 Canada                        NaN   \n2         Scarborough                 Canada                        NaN   \n3         Scarborough                 Canada                        NaN   \n4           West Hill                 Canada                Kingston Rd   \n\n   venue.location.distance                    venue.location.formattedAddress  \\\n0                      469  [4410 Kingston Rd, Scarborough ON M1E 2N5, Can...   \n1                      298   [4371 kingston road, Toronto ON M1E 2M9, Canada]   \n2                      343        [4383 Kingston rd., Scarborough ON, Canada]   \n3                      378  [4304 Kingston Road, Scarborough ON M1E 2M8, C...   \n4                      445  [4125 Lawrence Ave E (Kingston Rd), West Hill ...   \n\n                       venue.location.labeledLatLngs  venue.location.lat  \\\n0  [{'lat': 43.76769708292701, 'label': 'display'...           43.767697   \n1  [{'lat': 43.765309, 'label': 'display', 'lng':...           43.765309   \n2  [{'lat': 43.766299084470795, 'label': 'display...           43.766299   \n3  [{'lat': 43.76404170000001, 'label': 'display'...           43.764042   \n4  [{'lat': 43.766631153138455, 'label': 'display...           43.766631   \n\n   venue.location.lng venue.location.postalCode venue.location.state  \\\n0          -79.189914                   M1E 2N5                   ON   \n1          -79.191537                   M1E 2M9                   ON   \n2          -79.190720                       NaN                   ON   \n3          -79.193371                   M1E 2M8                   ON   \n4          -79.192286                       NaN                   ON   \n\n                        venue.name  venue.photos.count venue.photos.groups  \n0  Swiss Chalet Rotisserie & Grill                   0                  []  \n1                G & G Electronics                   0                  []  \n2                 Big Bite Burrito                   0                  []  \n3            Enterprise Rent-A-Car                   0                  []  \n4            Woburn Medical Centre                   0                  []  "
                    }, 
                    "output_type": "execute_result"
                }
            ], 
            "source": "\n\nvenues_df = get_venues(url)\n\nvenues_df.head()\n\n"
        }, 
        {
            "execution_count": 31, 
            "cell_type": "code", 
            "metadata": {}, 
            "outputs": [
                {
                    "execution_count": 31, 
                    "metadata": {}, 
                    "data": {
                        "text/html": "<div>\n<style scoped>\n    .dataframe tbody tr th:only-of-type {\n        vertical-align: middle;\n    }\n\n    .dataframe tbody tr th {\n        vertical-align: top;\n    }\n\n    .dataframe thead th {\n        text-align: right;\n    }\n</style>\n<table border=\"1\" class=\"dataframe\">\n  <thead>\n    <tr style=\"text-align: right;\">\n      <th></th>\n      <th>Category</th>\n      <th>Lat</th>\n      <th>Lng</th>\n      <th>Name</th>\n    </tr>\n  </thead>\n  <tbody>\n    <tr>\n      <th>0</th>\n      <td>[{'icon': {'suffix': '.png', 'prefix': 'https:...</td>\n      <td>43.767697</td>\n      <td>-79.189914</td>\n      <td>Swiss Chalet Rotisserie &amp; Grill</td>\n    </tr>\n    <tr>\n      <th>1</th>\n      <td>[{'icon': {'suffix': '.png', 'prefix': 'https:...</td>\n      <td>43.765309</td>\n      <td>-79.191537</td>\n      <td>G &amp; G Electronics</td>\n    </tr>\n    <tr>\n      <th>2</th>\n      <td>[{'icon': {'suffix': '.png', 'prefix': 'https:...</td>\n      <td>43.766299</td>\n      <td>-79.190720</td>\n      <td>Big Bite Burrito</td>\n    </tr>\n    <tr>\n      <th>3</th>\n      <td>[{'icon': {'suffix': '.png', 'prefix': 'https:...</td>\n      <td>43.764042</td>\n      <td>-79.193371</td>\n      <td>Enterprise Rent-A-Car</td>\n    </tr>\n    <tr>\n      <th>4</th>\n      <td>[{'icon': {'suffix': '.png', 'prefix': 'https:...</td>\n      <td>43.766631</td>\n      <td>-79.192286</td>\n      <td>Woburn Medical Centre</td>\n    </tr>\n  </tbody>\n</table>\n</div>", 
                        "text/plain": "                                            Category        Lat        Lng  \\\n0  [{'icon': {'suffix': '.png', 'prefix': 'https:...  43.767697 -79.189914   \n1  [{'icon': {'suffix': '.png', 'prefix': 'https:...  43.765309 -79.191537   \n2  [{'icon': {'suffix': '.png', 'prefix': 'https:...  43.766299 -79.190720   \n3  [{'icon': {'suffix': '.png', 'prefix': 'https:...  43.764042 -79.193371   \n4  [{'icon': {'suffix': '.png', 'prefix': 'https:...  43.766631 -79.192286   \n\n                              Name  \n0  Swiss Chalet Rotisserie & Grill  \n1                G & G Electronics  \n2                 Big Bite Burrito  \n3            Enterprise Rent-A-Car  \n4            Woburn Medical Centre  "
                    }, 
                    "output_type": "execute_result"
                }
            ], 
            "source": "#function to clean the venues dataframe\ndef clean_df(df):\n    relevant_columns = ['venue.categories', 'venue.location.lat', 'venue.location.lng', 'venue.name']\n    clean_df = df.loc[:,relevant_columns]\n\n    #rename columns\n    clean_df.columns = ['Category', 'Lat', 'Lng', 'Name']\n    return clean_df \n\nvenues_df = clean_df(venues_df)\nvenues_df.head()"
        }, 
        {
            "source": "#     Get Categories of the Venues", 
            "cell_type": "markdown", 
            "metadata": {}
        }, 
        {
            "execution_count": 32, 
            "cell_type": "code", 
            "metadata": {}, 
            "outputs": [
                {
                    "execution_count": 32, 
                    "metadata": {}, 
                    "data": {
                        "text/html": "<div>\n<style scoped>\n    .dataframe tbody tr th:only-of-type {\n        vertical-align: middle;\n    }\n\n    .dataframe tbody tr th {\n        vertical-align: top;\n    }\n\n    .dataframe thead th {\n        text-align: right;\n    }\n</style>\n<table border=\"1\" class=\"dataframe\">\n  <thead>\n    <tr style=\"text-align: right;\">\n      <th></th>\n      <th>Category</th>\n      <th>Lat</th>\n      <th>Lng</th>\n      <th>Name</th>\n    </tr>\n  </thead>\n  <tbody>\n    <tr>\n      <th>0</th>\n      <td>Pizza Place</td>\n      <td>43.767697</td>\n      <td>-79.189914</td>\n      <td>Swiss Chalet Rotisserie &amp; Grill</td>\n    </tr>\n    <tr>\n      <th>1</th>\n      <td>Electronics Store</td>\n      <td>43.765309</td>\n      <td>-79.191537</td>\n      <td>G &amp; G Electronics</td>\n    </tr>\n    <tr>\n      <th>2</th>\n      <td>Mexican Restaurant</td>\n      <td>43.766299</td>\n      <td>-79.190720</td>\n      <td>Big Bite Burrito</td>\n    </tr>\n    <tr>\n      <th>3</th>\n      <td>Rental Car Location</td>\n      <td>43.764042</td>\n      <td>-79.193371</td>\n      <td>Enterprise Rent-A-Car</td>\n    </tr>\n    <tr>\n      <th>4</th>\n      <td>Medical Center</td>\n      <td>43.766631</td>\n      <td>-79.192286</td>\n      <td>Woburn Medical Centre</td>\n    </tr>\n    <tr>\n      <th>5</th>\n      <td>Breakfast Spot</td>\n      <td>43.767800</td>\n      <td>-79.190466</td>\n      <td>Eggsmart</td>\n    </tr>\n  </tbody>\n</table>\n</div>", 
                        "text/plain": "              Category        Lat        Lng                             Name\n0          Pizza Place  43.767697 -79.189914  Swiss Chalet Rotisserie & Grill\n1    Electronics Store  43.765309 -79.191537                G & G Electronics\n2   Mexican Restaurant  43.766299 -79.190720                 Big Bite Burrito\n3  Rental Car Location  43.764042 -79.193371            Enterprise Rent-A-Car\n4       Medical Center  43.766631 -79.192286            Woburn Medical Centre\n5       Breakfast Spot  43.767800 -79.190466                         Eggsmart"
                    }, 
                    "output_type": "execute_result"
                }
            ], 
            "source": "#function that extract the category name\ndef get_category_name(row):\n    category_json = row['Category']\n    try:\n        return category_json[0]['name']\n    except:        \n        return None\n\nvenues_df['Category'] = venues_df.apply(get_category_name, axis=1)\n\nvenues_df"
        }, 
        {
            "source": "# function to get the closest postcode pair and the distance using latitude and longitude", 
            "cell_type": "markdown", 
            "metadata": {}
        }, 
        {
            "execution_count": 51, 
            "cell_type": "code", 
            "metadata": {}, 
            "outputs": [], 
            "source": " from geopy.distance import great_circle\n\n\ndef closest_postcode(postcode, postcodes):\n    postcode = np.asarray(postcode).reshape(1,-1)\n    postcodes = np.asarray(postcodes)\n    distances = [great_circle(postcode, point).meters for point in postcodes]\n    closest_postcode_index = np.argmin(distances)\n    return [round(distances[closest_postcode_index]), closest_postcode_index]"
        }, 
        {
            "execution_count": 54, 
            "cell_type": "code", 
            "metadata": {}, 
            "outputs": [
                {
                    "execution_count": 54, 
                    "metadata": {}, 
                    "data": {
                        "text/html": "<div>\n<style scoped>\n    .dataframe tbody tr th:only-of-type {\n        vertical-align: middle;\n    }\n\n    .dataframe tbody tr th {\n        vertical-align: top;\n    }\n\n    .dataframe thead th {\n        text-align: right;\n    }\n</style>\n<table border=\"1\" class=\"dataframe\">\n  <thead>\n    <tr style=\"text-align: right;\">\n      <th></th>\n      <th>Longitude</th>\n      <th>Latitude</th>\n    </tr>\n  </thead>\n  <tbody>\n    <tr>\n      <th>0</th>\n      <td>-79.194353</td>\n      <td>43.806686</td>\n    </tr>\n    <tr>\n      <th>16</th>\n      <td>-79.205636</td>\n      <td>43.836125</td>\n    </tr>\n  </tbody>\n</table>\n</div>", 
                        "text/plain": "    Longitude   Latitude\n0  -79.194353  43.806686\n16 -79.205636  43.836125"
                    }, 
                    "output_type": "execute_result"
                }
            ], 
            "source": "coordinates = postcodes_with_coordinates_df[['Latitude', 'Longitude']]\nimport matplotlib.pyplot as plt\n\nX = postcodes_with_coordinates_df[['Longitude', 'Latitude']]\n\ndistance, closest_point_index = closest_postcode(coordinates[:1], coordinates[~coordinates.index.isin([0])])\nclose_points = X[:1].append(X[closest_point_index+1:closest_point_index+2])\nclose_points"
        }, 
        {
            "execution_count": 55, 
            "cell_type": "code", 
            "metadata": {}, 
            "outputs": [
                {
                    "execution_count": 55, 
                    "metadata": {}, 
                    "data": {
                        "text/html": "<div>\n<style scoped>\n    .dataframe tbody tr th:only-of-type {\n        vertical-align: middle;\n    }\n\n    .dataframe tbody tr th {\n        vertical-align: top;\n    }\n\n    .dataframe thead th {\n        text-align: right;\n    }\n</style>\n<table border=\"1\" class=\"dataframe\">\n  <thead>\n    <tr style=\"text-align: right;\">\n      <th></th>\n      <th>Postcode</th>\n      <th>Borough</th>\n      <th>Neighborhood</th>\n      <th>Latitude</th>\n      <th>Longitude</th>\n      <th>Distance</th>\n    </tr>\n  </thead>\n  <tbody>\n    <tr>\n      <th>0</th>\n      <td>M1B</td>\n      <td>Scarborough</td>\n      <td>Rouge, Malvern</td>\n      <td>43.806686</td>\n      <td>-79.194353</td>\n      <td>1698.0</td>\n    </tr>\n    <tr>\n      <th>1</th>\n      <td>M1C</td>\n      <td>Scarborough</td>\n      <td>Highland Creek, Rouge Hill, Port Union</td>\n      <td>43.784535</td>\n      <td>-79.160497</td>\n      <td>1625.0</td>\n    </tr>\n    <tr>\n      <th>2</th>\n      <td>M1E</td>\n      <td>Scarborough</td>\n      <td>Guildwood, Morningside, West Hill</td>\n      <td>43.763573</td>\n      <td>-79.188711</td>\n      <td>1205.0</td>\n    </tr>\n    <tr>\n      <th>3</th>\n      <td>M1G</td>\n      <td>Scarborough</td>\n      <td>Woburn</td>\n      <td>43.770992</td>\n      <td>-79.216917</td>\n      <td>913.0</td>\n    </tr>\n    <tr>\n      <th>4</th>\n      <td>M1H</td>\n      <td>Scarborough</td>\n      <td>Cedarbrae</td>\n      <td>43.773136</td>\n      <td>-79.239476</td>\n      <td>913.0</td>\n    </tr>\n    <tr>\n      <th>5</th>\n      <td>M1J</td>\n      <td>Scarborough</td>\n      <td>Scarborough Village</td>\n      <td>43.744734</td>\n      <td>-79.239476</td>\n      <td>1302.0</td>\n    </tr>\n    <tr>\n      <th>6</th>\n      <td>M1K</td>\n      <td>Scarborough</td>\n      <td>East Birchmount Park, Ionview, Kennedy Park</td>\n      <td>43.727929</td>\n      <td>-79.262029</td>\n      <td>1113.0</td>\n    </tr>\n    <tr>\n      <th>7</th>\n      <td>M1L</td>\n      <td>Scarborough</td>\n      <td>Clairlea, Golden Mile, Oakridge</td>\n      <td>43.711112</td>\n      <td>-79.284577</td>\n      <td>1052.0</td>\n    </tr>\n    <tr>\n      <th>8</th>\n      <td>M1M</td>\n      <td>Scarborough</td>\n      <td>Cliffcrest, Cliffside, Scarborough Village West</td>\n      <td>43.716316</td>\n      <td>-79.239476</td>\n      <td>1113.0</td>\n    </tr>\n    <tr>\n      <th>9</th>\n      <td>M1N</td>\n      <td>Scarborough</td>\n      <td>Birch Cliff, Cliffside West</td>\n      <td>43.692657</td>\n      <td>-79.264848</td>\n      <td>1297.0</td>\n    </tr>\n    <tr>\n      <th>10</th>\n      <td>M1P</td>\n      <td>Scarborough</td>\n      <td>Dorset Park, Scarborough Town Centre, Wexford ...</td>\n      <td>43.757410</td>\n      <td>-79.273304</td>\n      <td>993.0</td>\n    </tr>\n    <tr>\n      <th>11</th>\n      <td>M1R</td>\n      <td>Scarborough</td>\n      <td>Maryvale, Wexford</td>\n      <td>43.750072</td>\n      <td>-79.295849</td>\n      <td>993.0</td>\n    </tr>\n    <tr>\n      <th>12</th>\n      <td>M1S</td>\n      <td>Scarborough</td>\n      <td>Agincourt</td>\n      <td>43.794200</td>\n      <td>-79.262029</td>\n      <td>1480.0</td>\n    </tr>\n    <tr>\n      <th>13</th>\n      <td>M1T</td>\n      <td>Scarborough</td>\n      <td>Clarks Corners, Sullivan, Tam O'Shanter</td>\n      <td>43.781638</td>\n      <td>-79.304302</td>\n      <td>1144.0</td>\n    </tr>\n    <tr>\n      <th>14</th>\n      <td>M1V</td>\n      <td>Scarborough</td>\n      <td>Agincourt North, L'Amoreaux East, Milliken, St...</td>\n      <td>43.815252</td>\n      <td>-79.284577</td>\n      <td>1480.0</td>\n    </tr>\n  </tbody>\n</table>\n</div>", 
                        "text/plain": "   Postcode      Borough                                       Neighborhood  \\\n0       M1B  Scarborough                                     Rouge, Malvern   \n1       M1C  Scarborough             Highland Creek, Rouge Hill, Port Union   \n2       M1E  Scarborough                  Guildwood, Morningside, West Hill   \n3       M1G  Scarborough                                             Woburn   \n4       M1H  Scarborough                                          Cedarbrae   \n5       M1J  Scarborough                                Scarborough Village   \n6       M1K  Scarborough        East Birchmount Park, Ionview, Kennedy Park   \n7       M1L  Scarborough                    Clairlea, Golden Mile, Oakridge   \n8       M1M  Scarborough    Cliffcrest, Cliffside, Scarborough Village West   \n9       M1N  Scarborough                        Birch Cliff, Cliffside West   \n10      M1P  Scarborough  Dorset Park, Scarborough Town Centre, Wexford ...   \n11      M1R  Scarborough                                  Maryvale, Wexford   \n12      M1S  Scarborough                                          Agincourt   \n13      M1T  Scarborough            Clarks Corners, Sullivan, Tam O'Shanter   \n14      M1V  Scarborough  Agincourt North, L'Amoreaux East, Milliken, St...   \n\n     Latitude  Longitude  Distance  \n0   43.806686 -79.194353    1698.0  \n1   43.784535 -79.160497    1625.0  \n2   43.763573 -79.188711    1205.0  \n3   43.770992 -79.216917     913.0  \n4   43.773136 -79.239476     913.0  \n5   43.744734 -79.239476    1302.0  \n6   43.727929 -79.262029    1113.0  \n7   43.711112 -79.284577    1052.0  \n8   43.716316 -79.239476    1113.0  \n9   43.692657 -79.264848    1297.0  \n10  43.757410 -79.273304     993.0  \n11  43.750072 -79.295849     993.0  \n12  43.794200 -79.262029    1480.0  \n13  43.781638 -79.304302    1144.0  \n14  43.815252 -79.284577    1480.0  "
                    }, 
                    "output_type": "execute_result"
                }
            ], 
            "source": "from math import isnan\n\nfor lat, lng, idx in zip(postcodes_with_coordinates_df['Latitude'], postcodes_with_coordinates_df['Longitude'], postcodes_with_coordinates_df.index):\n    distance, closest_point_index = closest_postcode([lat,lng], coordinates[~coordinates.index.isin([idx])])\n    postcodes_with_coordinates_df.at[idx,'Distance'] = np.int64(distance//2) #use the half of the disstance to avoid overlapping\n    \npostcodes_with_coordinates_df.head(15)"
        }, 
        {
            "execution_count": 67, 
            "cell_type": "code", 
            "metadata": {}, 
            "outputs": [], 
            "source": "#function to construct the dataframe with all the venues (max 100 venues per postal code)\ndef get_all_venues(postcodes, lat, lng, radius):\n    \n    venues_list=[]\n    for postcode, lat, lng, radius in zip(postcodes, lat, lng, radius):\n        url= format_url(lat, lng, radius)\n        results = requests.get(url).json()['response']['groups'][0]['items']\n        \n        venues_list.append([(\n            postcode, \n            lat, \n            lng, \n            v['venue']['name'], \n            v['venue']['location']['lat'], \n            v['venue']['location']['lng'], \n            v['venue']['categories'][0]['name'])\n            for v in results])\n    all_venues = pd.DataFrame([item for venue_list in venues_list for item in venue_list])\n    all_venues.columns = ['Postcode', \n                  'Postcode Latitude', \n                  'Postcode Longitude', \n                  'Venue', \n                  'Venue Latitude', \n                  'Venue Longitude',\n                  'Venue Category'\n                  ]\n    \n    return all_venues"
        }, 
        {
            "execution_count": 68, 
            "cell_type": "code", 
            "metadata": {}, 
            "outputs": [
                {
                    "output_type": "stream", 
                    "name": "stdout", 
                    "text": "The total number of venues returned is  3306\n"
                }, 
                {
                    "execution_count": 68, 
                    "metadata": {}, 
                    "data": {
                        "text/html": "<div>\n<style scoped>\n    .dataframe tbody tr th:only-of-type {\n        vertical-align: middle;\n    }\n\n    .dataframe tbody tr th {\n        vertical-align: top;\n    }\n\n    .dataframe thead th {\n        text-align: right;\n    }\n</style>\n<table border=\"1\" class=\"dataframe\">\n  <thead>\n    <tr style=\"text-align: right;\">\n      <th></th>\n      <th>Postcode</th>\n      <th>Postcode Latitude</th>\n      <th>Postcode Longitude</th>\n      <th>Venue</th>\n      <th>Venue Latitude</th>\n      <th>Venue Longitude</th>\n      <th>Venue Category</th>\n    </tr>\n  </thead>\n  <tbody>\n    <tr>\n      <th>0</th>\n      <td>M1B</td>\n      <td>43.806686</td>\n      <td>-79.194353</td>\n      <td>African Rainforest Pavilion</td>\n      <td>43.817725</td>\n      <td>-79.183433</td>\n      <td>Zoo Exhibit</td>\n    </tr>\n    <tr>\n      <th>1</th>\n      <td>M1B</td>\n      <td>43.806686</td>\n      <td>-79.194353</td>\n      <td>Images Salon &amp; Spa</td>\n      <td>43.802283</td>\n      <td>-79.198565</td>\n      <td>Spa</td>\n    </tr>\n    <tr>\n      <th>2</th>\n      <td>M1B</td>\n      <td>43.806686</td>\n      <td>-79.194353</td>\n      <td>Canadiana exhibit</td>\n      <td>43.817962</td>\n      <td>-79.193374</td>\n      <td>Zoo Exhibit</td>\n    </tr>\n    <tr>\n      <th>3</th>\n      <td>M1B</td>\n      <td>43.806686</td>\n      <td>-79.194353</td>\n      <td>penguin exhibit</td>\n      <td>43.819435</td>\n      <td>-79.185959</td>\n      <td>Zoo Exhibit</td>\n    </tr>\n    <tr>\n      <th>4</th>\n      <td>M1B</td>\n      <td>43.806686</td>\n      <td>-79.194353</td>\n      <td>Lion Exhibit</td>\n      <td>43.819228</td>\n      <td>-79.186977</td>\n      <td>Zoo Exhibit</td>\n    </tr>\n    <tr>\n      <th>5</th>\n      <td>M1B</td>\n      <td>43.806686</td>\n      <td>-79.194353</td>\n      <td>Caribbean Wave</td>\n      <td>43.798558</td>\n      <td>-79.195777</td>\n      <td>Caribbean Restaurant</td>\n    </tr>\n    <tr>\n      <th>6</th>\n      <td>M1B</td>\n      <td>43.806686</td>\n      <td>-79.194353</td>\n      <td>Gorilla Exhibit</td>\n      <td>43.819080</td>\n      <td>-79.184235</td>\n      <td>Zoo Exhibit</td>\n    </tr>\n    <tr>\n      <th>7</th>\n      <td>M1B</td>\n      <td>43.806686</td>\n      <td>-79.194353</td>\n      <td>Orangutan Exhibit</td>\n      <td>43.818413</td>\n      <td>-79.182548</td>\n      <td>Zoo Exhibit</td>\n    </tr>\n    <tr>\n      <th>8</th>\n      <td>M1B</td>\n      <td>43.806686</td>\n      <td>-79.194353</td>\n      <td>LCBO</td>\n      <td>43.796671</td>\n      <td>-79.204586</td>\n      <td>Liquor Store</td>\n    </tr>\n    <tr>\n      <th>9</th>\n      <td>M1B</td>\n      <td>43.806686</td>\n      <td>-79.194353</td>\n      <td>Wendy's</td>\n      <td>43.802008</td>\n      <td>-79.198080</td>\n      <td>Fast Food Restaurant</td>\n    </tr>\n  </tbody>\n</table>\n</div>", 
                        "text/plain": "  Postcode  Postcode Latitude  Postcode Longitude  \\\n0      M1B          43.806686          -79.194353   \n1      M1B          43.806686          -79.194353   \n2      M1B          43.806686          -79.194353   \n3      M1B          43.806686          -79.194353   \n4      M1B          43.806686          -79.194353   \n5      M1B          43.806686          -79.194353   \n6      M1B          43.806686          -79.194353   \n7      M1B          43.806686          -79.194353   \n8      M1B          43.806686          -79.194353   \n9      M1B          43.806686          -79.194353   \n\n                         Venue  Venue Latitude  Venue Longitude  \\\n0  African Rainforest Pavilion       43.817725       -79.183433   \n1           Images Salon & Spa       43.802283       -79.198565   \n2            Canadiana exhibit       43.817962       -79.193374   \n3              penguin exhibit       43.819435       -79.185959   \n4                 Lion Exhibit       43.819228       -79.186977   \n5               Caribbean Wave       43.798558       -79.195777   \n6              Gorilla Exhibit       43.819080       -79.184235   \n7            Orangutan Exhibit       43.818413       -79.182548   \n8                         LCBO       43.796671       -79.204586   \n9                      Wendy's       43.802008       -79.198080   \n\n         Venue Category  \n0           Zoo Exhibit  \n1                   Spa  \n2           Zoo Exhibit  \n3           Zoo Exhibit  \n4           Zoo Exhibit  \n5  Caribbean Restaurant  \n6           Zoo Exhibit  \n7           Zoo Exhibit  \n8          Liquor Store  \n9  Fast Food Restaurant  "
                    }, 
                    "output_type": "execute_result"
                }
            ], 
            "source": "all_venues = get_all_venues(postcodes_with_coordinates_df['Postcode'], postcodes_with_coordinates_df['Latitude'], postcodes_with_coordinates_df['Longitude'], postcodes_with_coordinates_df['Distance'])\n\nprint('The total number of venues returned is ', all_venues.shape[0])\n\nall_venues.head(10)"
        }, 
        {
            "execution_count": 70, 
            "cell_type": "code", 
            "metadata": {}, 
            "outputs": [
                {
                    "output_type": "stream", 
                    "name": "stdout", 
                    "text": "Total Toronto postcodes: 103\nTotal Toronto postcodes with venues: 102\n"
                }
            ], 
            "source": "\n\nprint('Total Toronto postcodes:', postcodes_with_coordinates_df['Postcode'].shape[0])\nprint('Total Toronto postcodes with venues:', all_venues['Postcode'].unique().shape[0])\n\n"
        }, 
        {
            "source": "# There is one postal code with no venues returned from the Foursquare API\n", 
            "cell_type": "markdown", 
            "metadata": {}
        }, 
        {
            "execution_count": 71, 
            "cell_type": "code", 
            "metadata": {}, 
            "outputs": [
                {
                    "execution_count": 71, 
                    "metadata": {}, 
                    "data": {
                        "text/html": "<div>\n<style scoped>\n    .dataframe tbody tr th:only-of-type {\n        vertical-align: middle;\n    }\n\n    .dataframe tbody tr th {\n        vertical-align: top;\n    }\n\n    .dataframe thead th {\n        text-align: right;\n    }\n</style>\n<table border=\"1\" class=\"dataframe\">\n  <thead>\n    <tr style=\"text-align: right;\">\n      <th></th>\n      <th>Postcode</th>\n      <th>Borough</th>\n      <th>Neighborhood</th>\n      <th>Latitude</th>\n      <th>Longitude</th>\n      <th>Distance</th>\n    </tr>\n  </thead>\n  <tbody>\n    <tr>\n      <th>56</th>\n      <td>M5E</td>\n      <td>Downtown Toronto</td>\n      <td>Berczy Park</td>\n      <td>43.644771</td>\n      <td>-79.373306</td>\n      <td>111.0</td>\n    </tr>\n  </tbody>\n</table>\n</div>", 
                        "text/plain": "   Postcode           Borough Neighborhood   Latitude  Longitude  Distance\n56      M5E  Downtown Toronto  Berczy Park  43.644771 -79.373306     111.0"
                    }, 
                    "output_type": "execute_result"
                }
            ], 
            "source": "postcodes_diff = np.setdiff1d(postcodes_with_coordinates_df['Postcode'].values,all_venues['Postcode'].unique())\npostcodes_with_coordinates_df[postcodes_with_coordinates_df['Postcode']==postcodes_diff[0]]"
        }, 
        {
            "execution_count": null, 
            "cell_type": "code", 
            "metadata": {}, 
            "outputs": [], 
            "source": ""
        }
    ], 
    "metadata": {
        "kernelspec": {
            "display_name": "Python 3.5", 
            "name": "python3", 
            "language": "python"
        }, 
        "language_info": {
            "mimetype": "text/x-python", 
            "nbconvert_exporter": "python", 
            "version": "3.5.5", 
            "name": "python", 
            "file_extension": ".py", 
            "pygments_lexer": "ipython3", 
            "codemirror_mode": {
                "version": 3, 
                "name": "ipython"
            }
        }
    }, 
    "nbformat": 4
}